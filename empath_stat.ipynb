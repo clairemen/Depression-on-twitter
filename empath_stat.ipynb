{
 "cells": [
  {
   "cell_type": "code",
   "execution_count": 27,
   "metadata": {
    "collapsed": true
   },
   "outputs": [],
   "source": [
    "import sys\n",
    "import numpy as np\n",
    "import pandas as pd\n",
    "color_mine = [\"#F8414A\", \"#5676A1\"]\n",
    "#读取positive的empath属性\n",
    "filepath='G:\\\\sufe\\\\mental illness\\\\Dataset\\\\labeled\\\\positive\\\\data\\\\feature_empath\\\\'\n",
    "file1=filepath+\"users_content_1.csv\"\n",
    "df1 = pd.read_csv(file1)\n",
    "df_column = df1.columns.values.tolist()\n",
    "for i in range(2,11):\n",
    "    file = filepath + 'users_content_{0}.csv'.format(i)\n",
    "    df=pd.read_csv(file)\n",
    "    df.columns =df_column\n",
    "    frame=[df1,df]\n",
    "    df = pd.concat(frame)\n",
    "    df1=df\n",
    "#读取infect users\n",
    "infect_df = pd.read_csv('G:\\\\sufe\\\\mental illness\\\\Dataset\\\\labeled\\\\positive\\\\data\\\\infect_user_data.csv')\n",
    "infect_id = infect_df['id']\n",
    "df1 = df1[df1['uid'].isin(infect_id)]\n",
    "#将empath汇总\n",
    "file_res = filepath+'pos_empath.csv'\n",
    "df1.to_csv(file_res,index=None)\n",
    "#读取negative的empath属性\n",
    "filepath_n='G:\\\\sufe\\\\mental illness\\\\Dataset\\\\labeled\\\\negative\\\\data\\\\feature_empath\\\\'\n",
    "file1_n=filepath_n+\"users_content_0.csv\"\n",
    "df1_n = pd.read_csv(file1_n)\n",
    "df_column_n = df1_n.columns.values.tolist()\n",
    "df_column_n[0]='uid'\n",
    "df1_n.columns = df_column_n\n",
    "for i in range(1,54):\n",
    "    file_n = filepath_n + 'users_content_{0}.csv'.format(i)\n",
    "    df_n=pd.read_csv(file_n)\n",
    "    df_n.columns =df_column_n\n",
    "    frame_n=[df1_n,df_n]\n",
    "    df_n = pd.concat(frame_n)\n",
    "    df1_n=df_n\n",
    "#将empath汇总\n",
    "file_res = filepath_n+'neg_empath.csv'\n",
    "df1_n.to_csv(file_res,index=None)  "
   ]
  },
  {
   "cell_type": "code",
   "execution_count": 28,
   "metadata": {},
   "outputs": [
    {
     "data": {
      "image/png": "[encoded data removed]",
      "text/plain": [
       "<matplotlib.figure.Figure at 0x11548b00>"
      ]
     },
     "metadata": {},
     "output_type": "display_data"
    }
   ],
   "source": [
    "%matplotlib inline\n",
    "import sys\n",
    "import matplotlib.pyplot as plt\n",
    "import numpy as np\n",
    "import matplotlib.patches as mpatches\n",
    "N=5\n",
    "labels = ['positive','negative']\n",
    "patches = [mpatches.Patch(color=color_mine[i], label=\"{:s}\".format(labels[i]) ) for i in range(len(color_mine))]\n",
    "fig,ax=plt.subplots(1,N,figsize=(10,2))\n",
    "attributes_all = df_column[31:36]\n",
    "\n",
    "x_value = [[0,1]] *N\n",
    "y_value = [[np.mean(df1[attributes_all[i]]),np.mean(df1_n[attributes_all[i]])] for i in range(N)]\n",
    "#y_value_median = [[np.median(p_df[attributes_all[i]]),np.median(n_df[attributes_all[i]])] for i in range(N)]\n",
    "for x,y,sax,item in zip(x_value,y_value,ax,attributes_all):\n",
    "    sax.bar(x,y,0.5,color=color_mine)\n",
    "    sax.set_xticks(np.arange(2))\n",
    "    sax.set_xticklabels(labels)\n",
    "    sax.set_title('#'+ item)\n",
    "ax[0].legend(handles=patches, bbox_to_anchor=(5,1.8), ncol=2)\n",
    "plt.tight_layout() \n",
    "plt.show()"
   ]
  },
  {
   "cell_type": "code",
   "execution_count": null,
   "metadata": {
    "collapsed": true
   },
   "outputs": [],
   "source": []
  }
 ],
 "metadata": {
  "kernelspec": {
   "display_name": "Python 3",
   "language": "python",
   "name": "python3"
  },
  "language_info": {
   "codemirror_mode": {
    "name": "ipython",
    "version": 3
   },
   "file_extension": ".py",
   "mimetype": "text/x-python",
   "name": "python",
   "nbconvert_exporter": "python",
   "pygments_lexer": "ipython3",
   "version": "3.6.2"
  }
 },
 "nbformat": 4,
 "nbformat_minor": 2
}
