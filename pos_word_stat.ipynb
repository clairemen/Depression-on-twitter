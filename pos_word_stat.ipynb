{
 "cells": [
  {
   "cell_type": "code",
   "execution_count": 1,
   "metadata": {},
   "outputs": [
    {
     "name": "stdout",
     "output_type": "stream",
     "text": [
      "1-------------type\n",
      "2-------------type\n",
      "3-------------type\n",
      "4-------------type\n",
      "5-------------type\n",
      "6-------------type\n",
      "7-------------type\n",
      "8-------------type\n",
      "9-------------type\n",
      "10-------------type\n"
     ]
    }
   ],
   "source": [
    "# 每个用户的微博统计数据\n",
    "import pandas as pd\n",
    "import numpy as np\n",
    "import nltk\n",
    "key_names=['CC','CD','IN','JJ','JJR','JJS','LS','MD','NN','RB','RBR','RBS','RP','VB','WDT','WRB']\n",
    "def pos_stat(text):\n",
    "    text1 = nltk.word_tokenize(text)\n",
    "    test = [item[1] for item in nltk.pos_tag(text1)]\n",
    "    dict_type={'CC':0,'CD':0,'IN':0,'JJ':0,'JJR':0,'JJS':0,'LS':0,'MD':0,'NN':0,'RB':0,'RBR':0,'RBS':0,'RP':0,'VB':0,'WDT':0,'WRB':0}    \n",
    "    for word in test:\n",
    "        if(word in key_names):\n",
    "            dict_type[word] = dict_type.get(word,0)+1\n",
    "    return dict_type\n",
    "\n",
    "#dict_me=['me','i','my','myself','mine','we','us','our','ours','ourselves']   \n",
    "dict_me=['me','i','my','myself','mine']   \n",
    "dict_you=['you','your','yours','yourself','yourselves']\n",
    "#dict_him =['he','his','him','himself','she','her','hers','herself','it','its','itself','they','them','their','theirs','themselves']\n",
    "dict_him =['he','his','him','himself','she','her','hers','herself','it','its','itself']\n",
    "#dict_abs = ['completely','always','never','hardly','never', 'merely', 'hardly','absolutely','totally','entire','all', 'only','most','worst']\n",
    "dict_abs = ['completely','always','never','hardly','never', 'merely', 'hardly','absolutely','totally','entire','all']\n",
    "def count_stat(text):    \n",
    "    words = nltk.word_tokenize(text)\n",
    "    w_count = len(words)\n",
    "    \n",
    "    c_count = len(text)\n",
    "    s_count=len(nltk.sent_tokenize(text))\n",
    "\n",
    "    a_count=me_count=you_count=him_count=0\n",
    "    for word in words:\n",
    "        if word in dict_me:\n",
    "            me_count += 1\n",
    "        elif word in dict_you:\n",
    "            you_count += 1\n",
    "        elif word in dict_him:\n",
    "            him_count += 1\n",
    "        elif word in dict_abs:\n",
    "            a_count += 1\n",
    "        else:\n",
    "            pass\n",
    "    return {'a_count':a_count,'c_count':c_count,'him_count':him_count,'me_count':me_count,'s_count':s_count,'w_count':w_count,\\\n",
    "           'you_count':you_count}\n",
    "    \n",
    "filepath='G:\\\\sufe\\\\mental illness\\\\Dataset\\\\labeled\\\\positive\\\\data\\\\user_tweets\\\\'\n",
    "for i in range(1,11):\n",
    "    file = filepath+\"users_tweets_{0}.csv\".format(i)\n",
    "    text_df = pd.read_csv(file)\n",
    "    type_arr = np.array(list(text_df[\"tweet\"].apply(lambda x: pos_stat(x)).values))\n",
    "    df_type = pd.DataFrame.from_records(index=text_df.uid.values, data=type_arr)\n",
    "    df_type.columns = key_names\n",
    "    #print(df_type.head())\n",
    "    \n",
    "    count_arr = np.array(list(text_df[\"tweet\"].apply(lambda x: count_stat(x)).values))\n",
    "    df_count = pd.DataFrame.from_records(index=text_df.uid.values, data=count_arr)\n",
    "    df_count.columns = ['a_count','c_count','him_count','me_count','s_count','w_count','you_count']\n",
    "    #print(df_count.head())\n",
    "    \n",
    "    df = pd.DataFrame(pd.concat([df_type, df_count], axis=1))\n",
    "    #df.set_index(\"uid\", inplace=True)\n",
    "    df.to_csv(\"G:\\\\sufe\\\\mental illness\\\\Dataset\\\\labeled\\\\positive\\\\data\\\\feature_count\\\\feature_count_{0}.csv\".format(i))\n",
    "    \n",
    "    print(\"{0}-------------type\".format(i))\n",
    "        "
   ]
  },
  {
   "cell_type": "code",
   "execution_count": null,
   "metadata": {},
   "outputs": [],
   "source": []
  }
 ],
 "metadata": {
  "kernelspec": {
   "display_name": "Python 3",
   "language": "python",
   "name": "python3"
  },
  "language_info": {
   "codemirror_mode": {
    "name": "ipython",
    "version": 3
   },
   "file_extension": ".py",
   "mimetype": "text/x-python",
   "name": "python",
   "nbconvert_exporter": "python",
   "pygments_lexer": "ipython3",
   "version": "3.6.5"
  }
 },
 "nbformat": 4,
 "nbformat_minor": 2
}
