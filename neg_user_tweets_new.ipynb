{
 "cells": [
  {
   "cell_type": "code",
   "execution_count": 1,
   "metadata": {},
   "outputs": [
    {
     "name": "stdout",
     "output_type": "stream",
     "text": [
      "[nltk_data] Downloading package stopwords to C:\\nltk_data...\n",
      "[nltk_data]   Package stopwords is already up-to-date!\n"
     ]
    }
   ],
   "source": [
    "import nltk\n",
    "nltk.download('stopwords')\n",
    "from nltk.corpus import stopwords\n",
    "from multiprocessing import Process\n",
    "from empath import Empath\n",
    "import pandas as pd\n",
    "import numpy as np\n",
    "import textblob\n",
    "import spacy\n",
    "import time\n",
    "import csv\n",
    "import re"
   ]
  },
  {
   "cell_type": "code",
   "execution_count": 2,
   "metadata": {
    "collapsed": true
   },
   "outputs": [],
   "source": [
    "stopWords = set(stopwords.words('english'))\n",
    "nlp = spacy.load('en_core_web_sm')\n",
    "prog = re.compile(\"(@[A-Za-z0-9]+)|([^0-9A-Za-z \\t,.?!])|(\\w+:\\/\\/\\S+)\")"
   ]
  },
  {
   "cell_type": "code",
   "execution_count": 3,
   "metadata": {
    "collapsed": true
   },
   "outputs": [],
   "source": [
    "def lemmatization(x, nlp):\n",
    "    lemmatized = []\n",
    "    for tweet in list(x.values):\n",
    "        s=\"\"\n",
    "        letters_only = prog.sub(\" \", tweet)        \n",
    "        s=\" \".join([token1.lemma_ for token1 in nlp(letters_only) if token1 not in stopWords and token1.text.lower()!='rt' and token1.lemma_ != \"-PRON-\"])\n",
    "        lemmatized.append(s)\n",
    "    return lemmatized"
   ]
  },
  {
   "cell_type": "code",
   "execution_count": 4,
   "metadata": {
    "collapsed": true
   },
   "outputs": [],
   "source": [
    "def processing(vals, columns, iterv):\n",
    "    users = pd.DataFrame(vals)\n",
    "    users = users[columns]\n",
    "    print(\"{0}-------------\".format(iterv))\n",
    "    # PRE-PROCESSING\n",
    "    users_text = users.groupby([\"uid\"])[\"tweet\"].apply(lambda x: lemmatization(x, nlp)).reset_index()\n",
    "    print(\"{0}-------------PRE-PROCESSING\".format(iterv))\n",
    "    users_text.to_csv(\"G:\\\\sufe\\\\mental illness\\\\Dataset\\\\labeled\\\\negative\\\\data\\\\user_tweets_new\\\\users_tweets_{0}.csv\".format(iterv))\n",
    "    print(\"-------------{0}\".format(iterv))\n",
    "#print(data_df.columns.values.tolist())"
   ]
  },
  {
   "cell_type": "code",
   "execution_count": 5,
   "metadata": {},
   "outputs": [
    {
     "name": "stdout",
     "output_type": "stream",
     "text": [
      "41-------------\n",
      "41-------------PRE-PROCESSING\n",
      "-------------41\n",
      "480.32247281074524\n",
      "42-------------\n",
      "42-------------PRE-PROCESSING\n",
      "-------------42\n",
      "675.6226434707642\n",
      "43-------------\n",
      "43-------------PRE-PROCESSING\n",
      "-------------43\n",
      "704.0192677974701\n",
      "44-------------\n",
      "44-------------PRE-PROCESSING\n",
      "-------------44\n",
      "1033.459110736847\n",
      "45-------------\n",
      "45-------------PRE-PROCESSING\n",
      "-------------45\n",
      "992.4057621955872\n",
      "46-------------\n",
      "46-------------PRE-PROCESSING\n",
      "-------------46\n",
      "1046.8928787708282\n",
      "47-------------\n",
      "47-------------PRE-PROCESSING\n",
      "-------------47\n",
      "839.2180006504059\n",
      "48-------------\n",
      "48-------------PRE-PROCESSING\n",
      "-------------48\n",
      "532.792474269867\n",
      "49-------------\n",
      "49-------------PRE-PROCESSING\n",
      "-------------49\n",
      "946.3061254024506\n",
      "50-------------\n",
      "50-------------PRE-PROCESSING\n",
      "-------------50\n",
      "631.5421223640442\n",
      "51-------------\n",
      "51-------------PRE-PROCESSING\n",
      "-------------51\n",
      "639.5075776576996\n",
      "52-------------\n",
      "52-------------PRE-PROCESSING\n",
      "-------------52\n",
      "696.682847738266\n",
      "53-------------\n",
      "53-------------PRE-PROCESSING\n",
      "-------------53\n",
      "399.46084785461426\n"
     ]
    }
   ],
   "source": [
    "import csv\n",
    "cols = ['favorite_count', 'favorited', 'id', 'in_reply_to_status_id', 'lang', 'retweet_count', 'retweeted', 'time', 'tweet', 'uid']\n",
    "N=54\n",
    "filepath='G:\\\\sufe\\\\mental illness\\\\Dataset\\\\labeled\\\\negative\\\\data\\\\tweetitem\\\\'\n",
    "for i in range(41,N):\n",
    "    filename = filepath + 'negative_tweet{0}'.format(i)+'.csv'\n",
    "    f =open(filename,'r',encoding='utf-8')\n",
    "    csv_dict_reader = csv.DictReader(f)\n",
    "    v=[]\n",
    "    for line in csv_dict_reader:\n",
    "        #提取特征\n",
    "        v.append(line)\n",
    "    s = time.time()\n",
    "    processing(v, cols, i)\n",
    "    print(time.time() - s)        \n",
    "        \n",
    "v=[]\n",
    "last_u=None\n",
    "iter_vals=0"
   ]
  },
  {
   "cell_type": "code",
   "execution_count": null,
   "metadata": {
    "collapsed": true
   },
   "outputs": [],
   "source": []
  }
 ],
 "metadata": {
  "kernelspec": {
   "display_name": "Python 3",
   "language": "python",
   "name": "python3"
  },
  "language_info": {
   "codemirror_mode": {
    "name": "ipython",
    "version": 3
   },
   "file_extension": ".py",
   "mimetype": "text/x-python",
   "name": "python",
   "nbconvert_exporter": "python",
   "pygments_lexer": "ipython3",
   "version": "3.6.2"
  }
 },
 "nbformat": 4,
 "nbformat_minor": 2
}
