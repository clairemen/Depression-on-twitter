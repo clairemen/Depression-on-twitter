{
 "cells": [
  {
   "cell_type": "code",
   "execution_count": 47,
   "metadata": {
    "collapsed": true
   },
   "outputs": [],
   "source": [
    "#统计每个用户被回帖的数量，发帖中回复别人的数量,按时间统计发帖数\n",
    "def retweet_count(x):\n",
    "    line = list(x['retweet_count'].values)\n",
    "    line1 = list(x['in_reply_to_status_id'].values)\n",
    "    re_count=sum(line)\n",
    "    te_count=len(line)\n",
    "    re_ply_count = sum([1 for i in line1 if not math.isnan(i)])\n",
    "    #line2 = list(x['created_at'].values)\n",
    "    #按发帖时间进行汇总，每两小时为一组\n",
    "    time_dict={0:0,1:0,2:0,3:0,4:0,5:0,6:0,7:0,8:0,9:0,10:0,11:0}\n",
    "    time_list= [int(i[11:13])//2 for i in x['time']]   \n",
    "    for item in time_list:\n",
    "        time_dict[item]=time_dict.get(item,0)+1\n",
    "    d1={'reweet_count':re_count,'tweet_count':te_count,'replay_count':re_ply_count}\n",
    "    d=d1.copy()\n",
    "    d.update(time_dict)\n",
    "    return d\n",
    "def inter_file(filename):\n",
    "    dt = pd.read_csv(filename)\n",
    "    retweet_df = dt.groupby([\"uid\"])\n",
    "    res_df =np.array(retweet_df.apply(lambda x:retweet_count(x)))\n",
    "    test_df = pd.DataFrame.from_records(data=res_df)\n",
    "    test_df['uid'] = list(retweet_df.groups.keys())\n",
    "    return test_df"
   ]
  },
  {
   "cell_type": "code",
   "execution_count": 48,
   "metadata": {
    "collapsed": true
   },
   "outputs": [],
   "source": [
    "#positive interaction count\n",
    "import pandas as pd\n",
    "import math\n",
    "import numpy as np\n",
    "filename = 'G:\\\\sufe\\\\mental illness\\\\Dataset\\\\labeled\\\\positive\\\\data\\\\positive_tweet.csv'\n",
    "test_df = inter_file(filename)\n",
    "infect_df = pd.read_csv('G:\\\\sufe\\\\mental illness\\\\Dataset\\\\labeled\\\\positive\\\\data\\\\infect_user_data.csv')\n",
    "infect_id = infect_df['id']\n",
    "test_df = test_df[test_df['uid'].isin(infect_id)]\n",
    "#汇总\n",
    "test_df.to_csv('G:\\\\sufe\\\\mental illness\\\\Dataset\\\\labeled\\\\positive\\\\data\\\\pos_inter.csv',index=None)"
   ]
  },
  {
   "cell_type": "code",
   "execution_count": 49,
   "metadata": {
    "collapsed": true
   },
   "outputs": [],
   "source": [
    "#egative interaction count\n",
    "import pandas as pd\n",
    "import math\n",
    "import numpy as np\n",
    "filepath = 'G:\\\\sufe\\\\mental illness\\\\Dataset\\\\labeled\\\\negative\\\\data\\\\tweetitem\\\\'\n",
    "file1 = filepath+'negative_tweet0.csv'\n",
    "df = inter_file(file1)\n",
    "for i in range(1,54):\n",
    "    filename = filepath + 'negative_tweet{0}.csv'.format(i)    \n",
    "    test_df = inter_file(filename)\n",
    "    frame = [df,test_df]\n",
    "    df=pd.concat(frame)\n",
    "df.to_csv('G:\\\\sufe\\\\mental illness\\\\Dataset\\\\labeled\\\\negative\\\\data\\\\neg_inter.csv',index=None)"
   ]
  },
  {
   "cell_type": "code",
   "execution_count": null,
   "metadata": {
    "collapsed": true
   },
   "outputs": [],
   "source": []
  }
 ],
 "metadata": {
  "kernelspec": {
   "display_name": "Python 3",
   "language": "python",
   "name": "python3"
  },
  "language_info": {
   "codemirror_mode": {
    "name": "ipython",
    "version": 3
   },
   "file_extension": ".py",
   "mimetype": "text/x-python",
   "name": "python",
   "nbconvert_exporter": "python",
   "pygments_lexer": "ipython3",
   "version": "3.6.2"
  }
 },
 "nbformat": 4,
 "nbformat_minor": 2
}
