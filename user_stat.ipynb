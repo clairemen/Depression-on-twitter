{
 "cells": [
  {
   "cell_type": "code",
   "execution_count": 7,
   "metadata": {},
   "outputs": [
    {
     "data": {
      "image/png": "[encoded data removed]",
      "text/plain": [
       "<Figure size 576x144 with 4 Axes>"
      ]
     },
     "metadata": {},
     "output_type": "display_data"
    }
   ],
   "source": [
    "%matplotlib inline\n",
    "import sys\n",
    "import datetime\n",
    "import matplotlib.pyplot as plt\n",
    "\n",
    "import matplotlib.patches as mpatches\n",
    "import numpy as np\n",
    "import pandas as pd\n",
    "N=5\n",
    "color_mine = [\"#F8414A\", \"#5676A1\"]\n",
    "\n",
    "p_df = pd.read_csv(\"G:\\\\sufe\\\\mental illness\\\\Dataset\\\\labeled\\\\positive\\\\data\\\\infect_user_data.csv\")\n",
    "n_df = pd.read_csv(\"G:\\\\sufe\\\\mental illness\\\\Dataset\\\\labeled\\\\negative\\\\data\\\\negative_user_data.csv\")\n",
    "\n",
    "p_df[\"statuses_count\"] = p_df[\"statuses_count\"] / p_df[\"days\"]\n",
    "p_df[\"followers_count\"] = p_df[\"followers_count\"] / p_df[\"days\"]\n",
    "p_df[\"favourites_count\"] = p_df[\"favourites_count\"] / p_df[\"days\"]\n",
    "\n",
    "n_df[\"statuses_count\"] = n_df[\"statuses_count\"] / n_df[\"days\"]\n",
    "n_df[\"followers_count\"] = n_df[\"followers_count\"] / n_df[\"days\"]\n",
    "n_df[\"favourites_count\"] = n_df[\"favourites_count\"] / n_df[\"days\"]\n",
    "labels = ['positive','negative']\n",
    "patches = [mpatches.Patch(color=color_mine[i], label=\"{:s}\".format(labels[i]) ) for i in range(len(color_mine))]\n",
    "fig,ax=plt.subplots(1,4,sharex=True,sharey=False,figsize=(8,2))\n",
    "attributes_all = [\"friends_count\",\"statuses_count\", \"followers_count\", \"favourites_count\",\"days\"]\n",
    "\n",
    "x_value = [[0,1]] *N\n",
    "y_value = [[np.mean(p_df[attributes_all[i]]),np.mean(n_df[attributes_all[i]])] for i in range(N)]\n",
    "#y_value_median = [[np.median(p_df[attributes_all[i]]),np.median(n_df[attributes_all[i]])] for i in range(N)]\n",
    "for x,y,sax,item in zip(x_value,y_value,ax.ravel(),attributes_all):\n",
    "    sax.bar(x,y,0.5,color=color_mine)\n",
    "    sax.set_xticks(np.arange(2))\n",
    "    sax.set_xticklabels(labels)\n",
    "    sax.set_title('#'+ item)\n",
    "ax[0].legend(handles=patches, bbox_to_anchor=(3,1.5), ncol=2)\n",
    "plt.show()\n"
   ]
  },
  {
   "cell_type": "code",
   "execution_count": null,
   "metadata": {
    "collapsed": true
   },
   "outputs": [],
   "source": []
  }
 ],
 "metadata": {
  "kernelspec": {
   "display_name": "Python 3",
   "language": "python",
   "name": "python3"
  },
  "language_info": {
   "codemirror_mode": {
    "name": "ipython",
    "version": 3
   },
   "file_extension": ".py",
   "mimetype": "text/x-python",
   "name": "python",
   "nbconvert_exporter": "python",
   "pygments_lexer": "ipython3",
   "version": "3.6.2"
  }
 },
 "nbformat": 4,
 "nbformat_minor": 2
}
