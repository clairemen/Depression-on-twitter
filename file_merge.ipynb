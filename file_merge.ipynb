{
 "cells": [
  {
   "cell_type": "code",
   "execution_count": 20,
   "metadata": {
    "collapsed": true
   },
   "outputs": [],
   "source": [
    "import numpy as np\n",
    "import pandas as pd\n",
    "filepath='G:\\\\sufe\\\\mental illness\\\\Dataset\\\\labeled\\\\positive\\\\data\\\\feature_count\\\\'\n",
    "file1=filepath+\"feature_count_1.csv\"\n",
    "df1 = pd.read_csv(file1)\n",
    "df_column = ['uid']+df1.columns.values.tolist()[1:]\n",
    "df1.columns=df_column\n",
    "for i in range(2,11):\n",
    "    file = filepath + 'feature_count_{0}.csv'.format(i)\n",
    "    df=pd.read_csv(file)\n",
    "    df.columns =df_column\n",
    "    frame=[df1,df]\n",
    "    df = pd.concat(frame)\n",
    "    df1=df\n",
    "#读取infect users\n",
    "infect_df = pd.read_csv('G:\\\\sufe\\\\mental illness\\\\Dataset\\\\labeled\\\\positive\\\\data\\\\infect_user_data.csv')\n",
    "infect_id = infect_df['id']\n",
    "df1 = df1[df1['uid'].isin(infect_id)]\n",
    "#将count属性汇总\n",
    "file_res = filepath+'pos_count.csv'\n",
    "df1.to_csv(file_res,index=None)\n"
   ]
  },
  {
   "cell_type": "code",
   "execution_count": 21,
   "metadata": {
    "collapsed": true
   },
   "outputs": [],
   "source": [
    "import numpy as np\n",
    "import pandas as pd\n",
    "#读取negative的count属性\n",
    "filepath_n='G:\\\\sufe\\\\mental illness\\\\Dataset\\\\labeled\\\\negative\\\\data\\\\feature_count\\\\'\n",
    "file1_n=filepath_n+\"feature_count_0.csv\"\n",
    "df1_n = pd.read_csv(file1_n)\n",
    "df_column_n = df1_n.columns.values.tolist()\n",
    "df_column_n[0]='uid'\n",
    "df1_n.columns = df_column_n\n",
    "for i in range(1,54):\n",
    "    file_n = filepath_n + 'feature_count_{0}.csv'.format(i)\n",
    "    df_n=pd.read_csv(file_n)\n",
    "    df_n.columns =df_column_n\n",
    "    frame_n=[df1_n,df_n]\n",
    "    df_n = pd.concat(frame_n)\n",
    "    df1_n=df_n\n",
    "#将count汇总\n",
    "file_res_n = filepath_n+'neg_count.csv'\n",
    "df1_n.to_csv(file_res_n,index=None)  "
   ]
  },
  {
   "cell_type": "code",
   "execution_count": null,
   "metadata": {
    "collapsed": true
   },
   "outputs": [],
   "source": []
  }
 ],
 "metadata": {
  "kernelspec": {
   "display_name": "Python 3",
   "language": "python",
   "name": "python3"
  },
  "language_info": {
   "codemirror_mode": {
    "name": "ipython",
    "version": 3
   },
   "file_extension": ".py",
   "mimetype": "text/x-python",
   "name": "python",
   "nbconvert_exporter": "python",
   "pygments_lexer": "ipython3",
   "version": "3.6.2"
  }
 },
 "nbformat": 4,
 "nbformat_minor": 2
}
