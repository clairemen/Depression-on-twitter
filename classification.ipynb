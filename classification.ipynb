{
 "cells": [
  {
   "cell_type": "code",
   "execution_count": 3,
   "metadata": {
    "collapsed": true
   },
   "outputs": [],
   "source": [
    "#读取所有特征\n",
    "import pandas as pd\n",
    "import numpy as np\n",
    "pos_file_path=\"G:\\\\sufe\\\\mental illness\\\\Dataset\\\\labeled\\\\positive\\\\data\\\\\"\n",
    "pos_user_file=pos_file_path + \"infect_user_data.csv\"\n",
    "pos_inter_file=pos_file_path + \"pos_inter.csv\"\n",
    "pos_count_file=pos_file_path + \"feature_count\\\\pos_count.csv\"\n",
    "pos_empath_file=pos_file_path + \"feature_empath\\\\pos_empath.csv\"\n",
    "pos_user_df = pd.read_csv(pos_user_file)\n",
    "pos_user_df = pos_user_df[['id','favourites_count','followers_count','friends_count']]\n",
    "#修改列名‘id'->'uid'\n",
    "pos_user_df.rename(columns={'id':'uid'},inplace=True)\n",
    "pos_iter_df = pd.read_csv(pos_inter_file)\n",
    "pos_iter_df = pos_iter_df[['uid','replay_count','reweet_count','tweet_count','0','1','2','3','4','5','6','7','8','9','10','11']]\n",
    "pos_count_df = pd.read_csv(pos_count_file)\n",
    "pos_count_df = pos_count_df[['uid','a_count','c_count','you_count','him_count','CC','CD','MD','NN','RB','RP','VB']]\n",
    "pos_empath_df = pd.read_csv(pos_empath_file)\n",
    "pos_empath_df=pos_empath_df[['uid','sleep_empath','hate_empath','family_empath','crime_empath','attractive_empath',\\\n",
    "                             'horror_empath','swearing_terms_empath','leisure_empath','suffering_empath','tourism_empath',\\\n",
    "                             'beach_empath','journalism_empath','banking_empath','social_media_empath','exercise_empath',\\\n",
    "                             'night_empath','kill_empath','computer_empath','college_empath','stealing_empath','real_estate_empath',\\\n",
    "                             'irritability_empath','driving_empath','childish_empath','hipster_empath','internet_empath',\\\n",
    "                             'surprise_empath','reading_empath','leader_empath','noise_empath','eating_empath','confusion_empath',\\\n",
    "                             'water_empath','sports_empath','healing_empath','celebration_empath','violence_empath','military_empath',\\\n",
    "                             'exotic_empath','love_empath','hiking_empath','communication_empath','hearing_empath','sympathy_empath',\\\n",
    "                             'hygiene_empath','anonymity_empath','trust_empath','ancient_empath','deception_empath','fabric_empath','fight_empath',\\\n",
    "                             'vehicle_empath','war_empath','tool_empath','gain_empath','sound_empath','injury_empath','valuable_empath',\\\n",
    "                             'affection_empath','fashion_empath','ugliness_empath','shame_empath','clothing_empath','car_empath','shape_and_size_empath',\\\n",
    "                             'power_empath','party_empath','smell_empath','poor_empath','plant_empath','beauty_empath','philosophy_empath',\\\n",
    "                             'negative_emotion_empath','cleaning_empath','law_empath','payment_empath','feminine_empath','giving_empath',\\\n",
    "                             'contentment_empath','rural_empath','musical_empath','sentiment']]\n",
    "pos_feat = pd.merge(pos_user_df,pos_iter_df,on='uid')\n",
    "pos_feat = pd.merge(pos_feat,pos_count_df,on='uid')\n",
    "pos_feat = pd.merge(pos_feat,pos_empath_df,on='uid')\n",
    "#print(pos_feat.head())\n"
   ]
  },
  {
   "cell_type": "code",
   "execution_count": 4,
   "metadata": {
    "collapsed": true
   },
   "outputs": [],
   "source": [
    "#读取所有特征\n",
    "import pandas as pd\n",
    "import numpy as np\n",
    "neg_file_path = \"G:\\\\sufe\\\\mental illness\\\\Dataset\\\\labeled\\\\negative\\\\data\\\\\"\n",
    "neg_user_file = neg_file_path + \"negative_user_data.csv\"\n",
    "neg_inter_file = neg_file_path + \"neg_inter.csv\"\n",
    "neg_count_file = neg_file_path + \"feature_count\\\\neg_count.csv\"\n",
    "neg_empath_file = neg_file_path + \"feature_empath\\\\neg_empath.csv\"\n",
    "neg_user_df = pd.read_csv(neg_user_file)\n",
    "neg_user_df = neg_user_df[['id','favourites_count','followers_count','friends_count']]\n",
    "#修改列名‘id'->'uid'\n",
    "neg_user_df.rename(columns={'id':'uid'},inplace=True)\n",
    "neg_iter_df = pd.read_csv(neg_inter_file)\n",
    "neg_iter_df = neg_iter_df[['uid','replay_count','reweet_count','tweet_count','0','1','2','3','4','5','6','7','8','9','10','11']]\n",
    "neg_count_df = pd.read_csv(neg_count_file)\n",
    "neg_count_df = neg_count_df[['uid','a_count','c_count','you_count','him_count','CC','CD','MD','NN','RB','RP','VB']]\n",
    "neg_empath_df = pd.read_csv(neg_empath_file)\n",
    "neg_empath_df = neg_empath_df[['uid','sleep_empath','hate_empath','family_empath','crime_empath','attractive_empath',\\\n",
    "                             'horror_empath','swearing_terms_empath','leisure_empath','suffering_empath','tourism_empath',\\\n",
    "                             'beach_empath','journalism_empath','banking_empath','social_media_empath','exercise_empath',\\\n",
    "                             'night_empath','kill_empath','computer_empath','college_empath','stealing_empath','real_estate_empath',\\\n",
    "                             'irritability_empath','driving_empath','childish_empath','hipster_empath','internet_empath',\\\n",
    "                             'surprise_empath','reading_empath','leader_empath','noise_empath','eating_empath','confusion_empath',\\\n",
    "                             'water_empath','sports_empath','healing_empath','celebration_empath','violence_empath','military_empath',\\\n",
    "                             'exotic_empath','love_empath','hiking_empath','communication_empath','hearing_empath','sympathy_empath',\\\n",
    "                             'hygiene_empath','anonymity_empath','trust_empath','ancient_empath','deception_empath','fabric_empath','fight_empath',\\\n",
    "                             'vehicle_empath','war_empath','tool_empath','gain_empath','sound_empath','injury_empath','valuable_empath',\\\n",
    "                             'affection_empath','fashion_empath','ugliness_empath','shame_empath','clothing_empath','car_empath','shape_and_size_empath',\\\n",
    "                             'power_empath','party_empath','smell_empath','poor_empath','plant_empath','beauty_empath','philosophy_empath',\\\n",
    "                             'negative_emotion_empath','cleaning_empath','law_empath','payment_empath','feminine_empath','giving_empath',\\\n",
    "                             'contentment_empath','rural_empath','musical_empath','sentiment']]\n",
    "neg_feat = pd.merge(neg_user_df,neg_iter_df,on='uid')\n",
    "neg_feat = pd.merge(neg_feat,neg_count_df,on='uid')\n",
    "neg_feat = pd.merge(neg_feat,neg_empath_df,on='uid')\n",
    "#print(neg_feat.head())"
   ]
  },
  {
   "cell_type": "code",
   "execution_count": 5,
   "metadata": {},
   "outputs": [
    {
     "name": "stdout",
     "output_type": "stream",
     "text": [
      "(6090, 113)\n"
     ]
    }
   ],
   "source": [
    "#合并数据集\n",
    "pos_feat['label']=0\n",
    "neg_feat['label']=1\n",
    "all_feat=pd.concat([pos_feat,neg_feat],ignore_index=True)\n",
    "print(all_feat.shape)"
   ]
  },
  {
   "cell_type": "code",
   "execution_count": 6,
   "metadata": {},
   "outputs": [
    {
     "name": "stdout",
     "output_type": "stream",
     "text": [
      "   favourites_count  followers_count  friends_count  replay_count  \\\n",
      "0          0.013342         0.050995       0.170326      0.006129   \n",
      "1          0.000081         0.005353       0.006846      0.000000   \n",
      "2          0.000036         0.007412       0.055941      0.000454   \n",
      "3          0.000617         0.005422       0.052517      0.001589   \n",
      "4          0.006451         0.055868       0.037906      0.004767   \n",
      "\n",
      "   reweet_count  tweet_count         0         1         2         3  ...  \\\n",
      "0      0.004096     0.021154  0.003717  0.037037  0.048587  0.000000  ...   \n",
      "1      0.000000     0.008169  0.001859  0.000000  0.000883  0.005853  ...   \n",
      "2      0.000005     0.000344  0.002788  0.000926  0.000000  0.000000  ...   \n",
      "3      0.003180     0.004988  0.000000  0.014815  0.009717  0.000000  ...   \n",
      "4      0.134753     0.037492  0.017658  0.029630  0.056537  0.003344  ...   \n",
      "\n",
      "   cleaning_empath  law_empath  payment_empath  feminine_empath  \\\n",
      "0         0.020808    0.000000        0.033919         0.012951   \n",
      "1         0.000000    0.023381        0.035971         0.000000   \n",
      "2         0.000000    0.000000        0.062500         0.000000   \n",
      "3         0.116344    0.000000        0.025862         0.036207   \n",
      "4         0.000000    0.010591        0.017109         0.006844   \n",
      "\n",
      "   giving_empath  contentment_empath  rural_empath  musical_empath  sentiment  \\\n",
      "0       0.000000            0.009508      0.029259        0.016801   0.638844   \n",
      "1       0.051207            0.025879      0.025283        0.010889   0.573999   \n",
      "2       0.000000            0.000000      0.000000        0.000000   0.645062   \n",
      "3       0.000000            0.021264      0.163596        0.000000   0.554349   \n",
      "4       0.006959            0.009044      0.010307        0.011838   0.561982   \n",
      "\n",
      "   label  \n",
      "0    0.0  \n",
      "1    0.0  \n",
      "2    0.0  \n",
      "3    0.0  \n",
      "4    0.0  \n",
      "\n",
      "[5 rows x 112 columns]\n"
     ]
    }
   ],
   "source": [
    "#数据归一化\n",
    "import numpy as np\n",
    "all_feat = all_feat.drop(['uid'],axis=1)\n",
    "minval = all_feat.min(0)\n",
    "maxval = all_feat.max(0)\n",
    "ranges = maxval - minval\n",
    "normdf = np.zeros(np.shape(all_feat))\n",
    "m = all_feat.shape[0]\n",
    "normdf = all_feat - np.tile(minval,(m,1))\n",
    "normdf = normdf/np.tile(ranges,(m,1))\n",
    "#print(normdf.head())"
   ]
  },
  {
   "cell_type": "code",
   "execution_count": 9,
   "metadata": {},
   "outputs": [
    {
     "name": "stdout",
     "output_type": "stream",
     "text": [
      "(0.9388809628328944, 0.9267054346279698, 0.9323040594130796, 0.9267054346279698)\n",
      "(0.8961757946248495, 0.875524612320387, 0.8843298691806909, 0.8755246123203869)\n",
      "(0.8891935170807453, 0.8328087210129463, 0.8514427097853359, 0.8328087210129462)\n",
      "(0.7002702204753424, 0.6836409873381704, 0.6893438940700267, 0.6836409873381705)\n",
      "(0.633844779502877, 0.623897424953763, 0.6269994834595776, 0.623897424953763)\n"
     ]
    }
   ],
   "source": [
    "from sklearn.cross_validation import train_test_split\n",
    "from sklearn.ensemble import RandomForestClassifier\n",
    "from sklearn import metrics\n",
    "y = normdf['label']\n",
    "x = normdf.drop(['label'],axis=1)\n",
    "x_user=x[['favourites_count','followers_count','friends_count']]\n",
    "x_inter=x[['replay_count','reweet_count','tweet_count','0','1','2','3','4','5','6','7','8','9','10','11']]\n",
    "x_count=x[['a_count','c_count','you_count','him_count','CC','CD','MD','NN','RB','RP','VB']]\n",
    "x_empath=x[['sleep_empath','hate_empath','family_empath','crime_empath','attractive_empath',\\\n",
    "'horror_empath','swearing_terms_empath','leisure_empath','suffering_empath','tourism_empath',\\\n",
    "'beach_empath','journalism_empath','banking_empath','social_media_empath','exercise_empath',\\\n",
    "'night_empath','kill_empath','computer_empath','college_empath','stealing_empath','real_estate_empath',\\\n",
    "'irritability_empath','driving_empath','childish_empath','hipster_empath','internet_empath',\\\n",
    "'surprise_empath','reading_empath','leader_empath','noise_empath','eating_empath','confusion_empath',\\\n",
    "'water_empath','sports_empath','healing_empath','celebration_empath','violence_empath','military_empath',\\\n",
    "'exotic_empath','love_empath','hiking_empath','communication_empath','hearing_empath','sympathy_empath',\\\n",
    "'hygiene_empath','anonymity_empath','trust_empath','ancient_empath','deception_empath','fabric_empath','fight_empath',\\\n",
    "'vehicle_empath','war_empath','tool_empath','gain_empath','sound_empath','injury_empath','valuable_empath',\\\n",
    "'affection_empath','fashion_empath','ugliness_empath','shame_empath','clothing_empath','car_empath','shape_and_size_empath',\\\n",
    "'power_empath','party_empath','smell_empath','poor_empath','plant_empath','beauty_empath','philosophy_empath',\\\n",
    "'negative_emotion_empath','cleaning_empath','law_empath','payment_empath','feminine_empath','giving_empath',\\\n",
    "'contentment_empath','rural_empath','musical_empath','sentiment']]\n",
    "#所有类别的特征\n",
    "feat_x=[x,x_empath,x_inter,x_count,x_user]\n",
    "result_p = []\n",
    "for item in feat_x:\n",
    "    X_train, X_test, y_train, y_test =train_test_split(item, y, test_size=0.20, random_state=1) \n",
    "    rf =RandomForestClassifier(n_estimators=1000, criterion='gini', max_features='sqrt', max_depth=None, min_samples_split=2, bootstrap=True, n_jobs=1, random_state=1)\n",
    "    rf =rf.fit(X_train, y_train)\n",
    "    y_test_pred =rf.predict(X_test)\n",
    "    item_p = metrics.precision_score(y_test, y_test_pred, average='macro')\n",
    "    item_r = metrics.recall_score(y_test, y_test_pred, average='macro')\n",
    "    item_f = metrics.f1_score(y_test, y_test_pred, average='macro')\n",
    "    item_auc = metrics.roc_auc_score(y_test, y_test_pred)\n",
    "    result_p.append((item_p,item_r,item_f,item_auc))\n",
    "for i in result_p:\n",
    "    print(i)"
   ]
  },
  {
   "cell_type": "code",
   "execution_count": 41,
   "metadata": {},
   "outputs": [
    {
     "data": {
      "image/png": "[encoded data removed]",
      "text/plain": [
       "<matplotlib.figure.Figure at 0x133495f8>"
      ]
     },
     "metadata": {},
     "output_type": "display_data"
    }
   ],
   "source": [
    "import matplotlib.pyplot as plt\n",
    "import pandas as pd\n",
    "import numpy as np\n",
    "import seaborn as sns\n",
    "from pylab import *  \n",
    "mpl.rcParams['font.sans-serif'] = ['SimHei'] \n",
    "x_val = ['all','empath','inter','count','user']\n",
    "y_val = [auc for _,_,_,auc in result_p]\n",
    "plt.figure(figsize=(6,4))\n",
    "plt.xlabel('特征类别')\n",
    "plt.ylabel('AUC值')\n",
    "plt.title('不同特征类别的AUC值')\n",
    "\n",
    "plt.ylim(0,1)\n",
    "plt.grid(linestyle='--') \n",
    "plt.xticks(arange(len(x_val)),x_val)\n",
    "x_val_map=arange(len(x_val))\n",
    "plt.bar(x_val_map,y_val,width = 0.45,align='center',color =['r','g','b','c','y'],alpha=0.8)\n",
    "ax1=plt.gca()\n",
    "ax1.patch.set_facecolor(\"gray\") \n",
    "for a,b in zip(x_val_map,y_val):\n",
    "    plt.text(a, b+0.02, '%.2f'%b , ha='center', va= 'bottom',fontsize=12)\n",
    "plt.show()\n",
    "# 参数alpha指定了所绘制图形的透明度，rot指定类别标签偏转的角度"
   ]
  },
  {
   "cell_type": "code",
   "execution_count": null,
   "metadata": {
    "collapsed": true
   },
   "outputs": [],
   "source": []
  }
 ],
 "metadata": {
  "kernelspec": {
   "display_name": "Python 3",
   "language": "python",
   "name": "python3"
  },
  "language_info": {
   "codemirror_mode": {
    "name": "ipython",
    "version": 3
   },
   "file_extension": ".py",
   "mimetype": "text/x-python",
   "name": "python",
   "nbconvert_exporter": "python",
   "pygments_lexer": "ipython3",
   "version": "3.6.2"
  }
 },
 "nbformat": 4,
 "nbformat_minor": 2
}
