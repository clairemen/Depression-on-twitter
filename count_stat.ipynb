{
 "cells": [
  {
   "cell_type": "code",
   "execution_count": 1,
   "metadata": {},
   "outputs": [
    {
     "data": {
      "image/png": "[encoded data removed]",
      "text/plain": [
       "<matplotlib.figure.Figure at 0xfab8b38>"
      ]
     },
     "metadata": {},
     "output_type": "display_data"
    }
   ],
   "source": [
    "%matplotlib inline\n",
    "import sys\n",
    "import datetime\n",
    "import matplotlib.pyplot as plt\n",
    "\n",
    "import matplotlib.patches as mpatches\n",
    "import numpy as np\n",
    "import pandas as pd\n",
    "N=6\n",
    "color_mine = [\"#F8414A\", \"#5676A1\"]\n",
    "\n",
    "p_df = pd.read_csv(\"G:\\\\sufe\\\\mental illness\\\\Dataset\\\\labeled\\\\positive\\\\data\\\\feature_count\\\\pos_count.csv\")\n",
    "n_df = pd.read_csv(\"G:\\\\sufe\\\\mental illness\\\\Dataset\\\\labeled\\\\negative\\\\data\\\\feature_count\\\\neg_count.csv\")\n",
    "#\n",
    "infect_df = pd.read_csv('G:\\\\sufe\\\\mental illness\\\\Dataset\\\\labeled\\\\positive\\\\data\\\\infect_user_data.csv')\n",
    "infect_id = infect_df['id']\n",
    "p_df = p_df[p_df['uid'].isin(infect_id)]\n",
    "\n",
    "p_df[\"a_count\"] = p_df[\"a_count\"] / p_df[\"w_count\"]\n",
    "p_df[\"c_count\"] = p_df[\"c_count\"] / p_df[\"w_count\"]\n",
    "p_df[\"him_count\"] = p_df[\"him_count\"] / p_df[\"w_count\"]\n",
    "p_df[\"me_count\"] = p_df[\"me_count\"] / p_df[\"w_count\"]\n",
    "p_df[\"you_count\"] = p_df[\"you_count\"] / p_df[\"w_count\"]\n",
    "p_df[\"w_count\"] = p_df[\"w_count\"] / p_df[\"s_count\"]\n",
    "\n",
    "n_df[\"a_count\"] = n_df[\"a_count\"] / n_df[\"w_count\"]\n",
    "n_df[\"c_count\"] = n_df[\"c_count\"] / n_df[\"w_count\"]\n",
    "n_df[\"him_count\"] = n_df[\"him_count\"] / n_df[\"w_count\"]\n",
    "n_df[\"me_count\"] = n_df[\"me_count\"] / n_df[\"w_count\"]\n",
    "n_df[\"you_count\"] = n_df[\"you_count\"] / n_df[\"w_count\"]\n",
    "n_df[\"w_count\"] = n_df[\"w_count\"] / n_df[\"s_count\"]\n",
    "\n",
    "labels = ['positive','negative']\n",
    "patches = [mpatches.Patch(color=color_mine[i], label=\"{:s}\".format(labels[i]) ) for i in range(len(color_mine))]\n",
    "fig,ax=plt.subplots(1,N,figsize=(10,2))\n",
    "attributes_all = [\"a_count\",\"c_count\", \"him_count\", \"me_count\",\"you_count\",\"w_count\"]\n",
    "\n",
    "x_value = [[0,1]] *N\n",
    "y_value = [[np.mean(p_df[attributes_all[i]]),np.mean(n_df[attributes_all[i]])] for i in range(N)]\n",
    "#y_value = [[np.median(p_df[attributes_all[i]]),np.median(n_df[attributes_all[i]])] for i in range(N)]\n",
    "for x,y,sax,item in zip(x_value,y_value,ax,attributes_all):\n",
    "    sax.bar(x,y,0.5,color=color_mine)\n",
    "    sax.set_xticks(np.arange(2))\n",
    "    sax.set_xticklabels(labels,rotation=30)\n",
    "    sax.set_title('#'+ item)\n",
    "ax[0].legend(handles=patches, bbox_to_anchor=(6,1.8), ncol=2)\n",
    "plt.tight_layout() \n",
    "plt.show()\n"
   ]
  },
  {
   "cell_type": "code",
   "execution_count": null,
   "metadata": {
    "collapsed": true
   },
   "outputs": [],
   "source": []
  },
  {
   "cell_type": "code",
   "execution_count": null,
   "metadata": {
    "collapsed": true
   },
   "outputs": [],
   "source": []
  }
 ],
 "metadata": {
  "kernelspec": {
   "display_name": "Python 3",
   "language": "python",
   "name": "python3"
  },
  "language_info": {
   "codemirror_mode": {
    "name": "ipython",
    "version": 3
   },
   "file_extension": ".py",
   "mimetype": "text/x-python",
   "name": "python",
   "nbconvert_exporter": "python",
   "pygments_lexer": "ipython3",
   "version": "3.6.2"
  }
 },
 "nbformat": 4,
 "nbformat_minor": 2
}
